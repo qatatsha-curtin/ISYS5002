{
  "nbformat": 4,
  "nbformat_minor": 0,
  "metadata": {
    "colab": {
      "provenance": [],
      "authorship_tag": "ABX9TyMSSU/jeU2LcUf7vepreIeR",
      "include_colab_link": true
    },
    "kernelspec": {
      "name": "python3",
      "display_name": "Python 3"
    },
    "language_info": {
      "name": "python"
    }
  },
  "cells": [
    {
      "cell_type": "markdown",
      "metadata": {
        "id": "view-in-github",
        "colab_type": "text"
      },
      "source": [
        "<a href=\"https://colab.research.google.com/github/qatatsha-curtin/ISYS5002/blob/main/Test_Code.ipynb\" target=\"_parent\"><img src=\"https://colab.research.google.com/assets/colab-badge.svg\" alt=\"Open In Colab\"/></a>"
      ]
    },
    {
      "cell_type": "code",
      "execution_count": null,
      "metadata": {
        "id": "ZnGHEJX1snEP"
      },
      "outputs": [],
      "source": [
        "!pip install hands-on-ai"
      ]
    },
    {
      "cell_type": "code",
      "source": [
        "from hands_on_ai.config import load_config, save_config, get_server_url, get_model\n",
        "\n",
        "# Get configuration values\n",
        "config = load_config()  # Returns dict with all config\n",
        "model = get_model()     # Get default LLM model\n",
        "server = get_server_url()  # Get Ollama server URL\n",
        "\n",
        "# Save configuration\n",
        "config[\"model\"] = \"llama3\"\n",
        "save_config(config)"
      ],
      "metadata": {
        "id": "5zIfaAzj72WZ"
      },
      "execution_count": null,
      "outputs": []
    },
    {
      "cell_type": "code",
      "source": [],
      "metadata": {
        "id": "o_zsn0pf8HKB"
      },
      "execution_count": null,
      "outputs": []
    }
  ]
}